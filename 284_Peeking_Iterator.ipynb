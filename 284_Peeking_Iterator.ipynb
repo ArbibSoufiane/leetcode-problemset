{
  "nbformat": 4,
  "nbformat_minor": 0,
  "metadata": {
    "colab": {
      "name": "284. Peeking Iterator.ipynb",
      "provenance": [],
      "collapsed_sections": [],
      "authorship_tag": "ABX9TyPKq8hS/lPr0NH7SnAwrKC+",
      "include_colab_link": true
    },
    "kernelspec": {
      "name": "python3",
      "display_name": "Python 3"
    },
    "language_info": {
      "name": "python"
    }
  },
  "cells": [
    {
      "cell_type": "markdown",
      "metadata": {
        "id": "view-in-github",
        "colab_type": "text"
      },
      "source": [
        "<a href=\"https://colab.research.google.com/github/ArbibSoufiane/leetcode-problemset/blob/main/284_Peeking_Iterator.ipynb\" target=\"_parent\"><img src=\"https://colab.research.google.com/assets/colab-badge.svg\" alt=\"Open In Colab\"/></a>"
      ]
    },
    {
      "cell_type": "markdown",
      "source": [
        "### Peek Without Changing Iterator Position"
      ],
      "metadata": {
        "id": "7MyAK3oPdv3Z"
      }
    },
    {
      "cell_type": "code",
      "execution_count": 30,
      "metadata": {
        "id": "6Jlreq3vdoSs"
      },
      "outputs": [],
      "source": [
        "# Iterator\n",
        "class Iterator(object):\n",
        "  def __init__(self, nums):\n",
        "    self.position = 0\n",
        "    self.nums= nums\n",
        "  def hasNext(self):\n",
        "    if self.position < len(self.nums):\n",
        "      return True\n",
        "    else:\n",
        "      return False\n",
        "  def next(self):\n",
        "    currentVal = self.nums[self.position]\n",
        "    self.position = self.position + 1\n",
        "    return currentVal"
      ]
    },
    {
      "cell_type": "code",
      "source": [
        "class PeekingIterator:\n",
        "  def __init__(self, iterator):\n",
        "    self.iterator = iterator\n",
        "\n",
        "  def peek(self):\n",
        "    peekVal = self.iterator.next()\n",
        "    self.iterator.position = self.iterator.position - 1\n",
        "    return peekVal\n",
        "\n",
        "  def next(self):\n",
        "    return self.iterator.next()\n",
        "\n",
        "  def hasNext(self):\n",
        "    return self.iterator.hasNext()\n",
        "    "
      ],
      "metadata": {
        "id": "IwuNvysci0Ms"
      },
      "execution_count": 31,
      "outputs": []
    },
    {
      "cell_type": "code",
      "source": [
        "\n",
        "\n",
        "# Your PeekingIterator object will be instantiated and called as such:\n",
        "iter = PeekingIterator(Iterator(list([1,2,3,4,5,6,7,8])))\n",
        "while iter.hasNext():\n",
        "  val = iter.peek()   # Get the next element but not advance the iterator.\n",
        "  print(val)\n",
        "  nextVal = iter.next()         # Should return the same value as [val].\n",
        "  print(nextVal)\n",
        "\n",
        "\n",
        "\n",
        "\n"
      ],
      "metadata": {
        "colab": {
          "base_uri": "https://localhost:8080/"
        },
        "id": "1oojPHZMffS3",
        "outputId": "77ac87d2-4269-4c11-c69b-1d0aab099633"
      },
      "execution_count": 32,
      "outputs": [
        {
          "output_type": "stream",
          "name": "stdout",
          "text": [
            "1\n",
            "1\n",
            "2\n",
            "2\n",
            "3\n",
            "3\n",
            "4\n",
            "4\n",
            "5\n",
            "5\n",
            "6\n",
            "6\n",
            "7\n",
            "7\n",
            "8\n",
            "8\n"
          ]
        }
      ]
    }
  ]
}