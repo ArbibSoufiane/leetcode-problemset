{
  "nbformat": 4,
  "nbformat_minor": 0,
  "metadata": {
    "colab": {
      "name": "LeetCode Problems PlayGround.ipynb",
      "provenance": [],
      "collapsed_sections": [],
      "toc_visible": true,
      "authorship_tag": "ABX9TyMmupc1iOCg5HW/g+AHFIP5",
      "include_colab_link": true
    },
    "kernelspec": {
      "name": "python3",
      "display_name": "Python 3"
    },
    "language_info": {
      "name": "python"
    }
  },
  "cells": [
    {
      "cell_type": "markdown",
      "metadata": {
        "id": "view-in-github",
        "colab_type": "text"
      },
      "source": [
        "<a href=\"https://colab.research.google.com/github/ArbibSoufiane/leetcode-problemset/blob/main/Roman-To-Integer.ipynb\" target=\"_parent\"><img src=\"https://colab.research.google.com/assets/colab-badge.svg\" alt=\"Open In Colab\"/></a>"
      ]
    },
    {
      "cell_type": "markdown",
      "source": [
        "# Roman To Integer\n",
        "\n",
        "\n",
        "\n",
        "Roman numerals are represented by seven different symbols: \n",
        "```\n",
        "Symbol       Value\n",
        "I             1\n",
        "V             5\n",
        "X             10\n",
        "L             50\n",
        "C             100\n",
        "D             500\n",
        "M             1000\n",
        "```\n",
        "\n",
        "\n",
        "**Special Cases**\n",
        "```\n",
        "I can be placed before V (5) and X (10) to make 4 and 9. \n",
        "X can be placed before L (50) and C (100) to make 40 and 90. \n",
        "C can be placed before D (500) and M (1000) to make 400 and 900.\n",
        "```\n",
        "\n",
        "* Roman numerals are usually written largest to smallest from left to right. \n",
        "\n",
        "Example 1:\n",
        "```\n",
        "Input: s = \"III\"\n",
        "Output: 3\n",
        "Explanation: III = 3.\n",
        "```\n",
        "\n",
        "Example 2:\n",
        "```\n",
        "Input: s = \"LVIII\"\n",
        "Output: 58\n",
        "Explanation: L = 50, V= 5, III = 3.\n",
        "```\n",
        "\n",
        "Example 3:\n",
        "```\n",
        "Input: s = \"MCMXCIV\"\n",
        "Output: 1994\n",
        "Explanation: M = 1000, CM = 900, XC = 90 and IV = 4.\n",
        "```"
      ],
      "metadata": {
        "id": "dnLn6sJIAz9S"
      }
    },
    {
      "cell_type": "code",
      "execution_count": 61,
      "metadata": {
        "colab": {
          "base_uri": "https://localhost:8080/"
        },
        "id": "HXFq6MwHAwDG",
        "outputId": "57aed12f-a1d7-4c36-b81a-8f7a63618fce"
      },
      "outputs": [
        {
          "output_type": "stream",
          "name": "stdout",
          "text": [
            "Validation Passed\n",
            "['V', 'I', 'C', 'X', 'M', 'C', 'M'] V\n"
          ]
        }
      ],
      "source": [
        "# Prepare Map For Roman & Normal Numbers\n",
        "romanNumbersMap = {\n",
        "  'I':1,\n",
        "  'V':5,\n",
        "  'X':10,\n",
        "  'L':50,\n",
        "  'C':100,\n",
        "  'D':500,\n",
        "  'M':1000\n",
        "}\n",
        "\n",
        "inputRoman = \"MCMXCIV\";\n",
        "inputRoman = inputRoman.upper()\n",
        "inputRoman = inputRoman[::-1]\n",
        "inputRoman = list(inputRoman)\n",
        "\n",
        "# Validations\n",
        "if len(inputRoman) > 15 or len(inputRoman)<1 :\n",
        "  print(\"Input Is Not Valid\")\n",
        "\n",
        "for i in inputRoman:\n",
        "  if i not in romanNumbersMap:\n",
        "    print(f'{i} Is Not Supported');\n",
        "\n",
        "print(\"Validation Passed\")\n",
        "print(inputRoman,inputRoman[0])"
      ]
    },
    {
      "cell_type": "code",
      "source": [
        "# Reverse inputRoman And Loop Over it to get the number IIV = VII\n",
        "\n",
        "outputNumber = 0\n",
        "outputExplained = \"\";\n",
        "print(f\"Working On {inputRoman} ...\")\n",
        "\n",
        "for i in range(0,len(inputRoman)):\n",
        "\n",
        "  # Skip Current Iteration if the prev > curren number\n",
        "  if i > 0 :\n",
        "    if romanNumbersMap[inputRoman[i]] < romanNumbersMap[inputRoman[i-1]]:\n",
        "      continue\n",
        "  \n",
        "  # Handle Special Cases While Still in the range\n",
        "  if i < len(inputRoman)-1 :\n",
        "    if romanNumbersMap[inputRoman[i]] > romanNumbersMap[inputRoman[i+1]]:\n",
        "      outputNumber = outputNumber + romanNumbersMap[inputRoman[i]] - romanNumbersMap[inputRoman[i+1]]\n",
        "      print(f\" {inputRoman[i+1]}{inputRoman[i]} = {romanNumbersMap[inputRoman[i]]}\")\n",
        "      continue\n",
        "\n",
        "  outputNumber = outputNumber + romanNumbersMap[inputRoman[i]]\n",
        "  print(f\" {inputRoman[i]} = {romanNumbersMap[inputRoman[i]]}\")\n",
        "\n",
        "\n",
        "print(outputNumber)"
      ],
      "metadata": {
        "colab": {
          "base_uri": "https://localhost:8080/"
        },
        "id": "5Mz9dHi4BmDG",
        "outputId": "64fad64e-3ec6-40f8-c713-a47cb1207fdc"
      },
      "execution_count": 64,
      "outputs": [
        {
          "output_type": "stream",
          "name": "stdout",
          "text": [
            "Working On ['V', 'I', 'C', 'X', 'M', 'C', 'M'] ...\n",
            " IV = 5\n",
            " XC = 100\n",
            " CM = 1000\n",
            " M = 1000\n",
            "1994\n"
          ]
        }
      ]
    }
  ]
}